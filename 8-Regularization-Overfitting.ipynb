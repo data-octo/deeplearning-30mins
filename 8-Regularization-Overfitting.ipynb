{
 "cells": [
  {
   "cell_type": "markdown",
   "metadata": {
    "colab_type": "text",
    "id": "C9HmC2T4ld5B"
   },
   "source": [
    "# Explore overfitting and underfitting"
   ]
  },
  {
   "cell_type": "markdown",
   "metadata": {
    "colab_type": "text",
    "id": "19rPukKZsPG6"
   },
   "source": [
    "As always, the code in this example will use the `tf.keras` API, which you can learn more about in the TensorFlow [Keras guide](https://www.tensorflow.org/guide/keras).\n",
    "\n",
    "In both of the previous examples—classifying movie reviews, and predicting housing prices—we saw that the accuracy of our model on the validation data would peak after training for a number of epochs, and would then start decreasing. \n",
    "\n",
    "In other words, our model would *overfit* to the training data. Learning how to deal with overfitting is important. Although it's often possible to achieve high accuracy on the *training set*, what we really want is to develop models that generalize well to a *testing data* (or data they haven't seen before).\n",
    "\n",
    "The opposite of overfitting is *underfitting*. Underfitting occurs when there is still room for improvement on the test data. This can happen for a number of reasons: If the model is not powerful enough, is over-regularized, or has simply not been trained long enough. This means the network has not learned the relevant patterns in the training data. \n",
    "\n",
    "If you train for too long though, the model will start to overfit and learn patterns from the training data that don't generalize to the test data. We need to strike a balance. Understanding how to train for an appropriate number of epochs as we'll explore below is a useful skill.\n",
    "\n",
    "To prevent overfitting, the best solution is to use more training data. A model trained on more data will naturally generalize better. When that is no longer possible, the next best solution is to use techniques like regularization. These place constraints on the quantity and type of information your model can store.  If a network can only afford to memorize a small number of patterns, the optimization process will force it to focus on the most prominent patterns, which have a better chance of generalizing well.\n",
    "\n",
    "In this notebook, we'll explore two common regularization techniques—weight regularization and dropout—and use them to improve our IMDB movie review classification notebook."
   ]
  },
  {
   "cell_type": "code",
   "execution_count": 1,
   "metadata": {
    "colab": {
     "autoexec": {
      "startup": false,
      "wait_interval": 0
     }
    },
    "colab_type": "code",
    "id": "5pZ8A2liqvgk"
   },
   "outputs": [
    {
     "name": "stdout",
     "output_type": "stream",
     "text": [
      "1.12.0\n"
     ]
    }
   ],
   "source": [
    "import tensorflow as tf\n",
    "from tensorflow import keras\n",
    "\n",
    "import numpy as np\n",
    "import matplotlib.pyplot as plt\n",
    "\n",
    "print(tf.__version__)"
   ]
  },
  {
   "cell_type": "markdown",
   "metadata": {
    "colab_type": "text",
    "id": "1cweoTiruj8O"
   },
   "source": [
    "## Download the IMDB dataset\n",
    "\n",
    "Rather than using an embedding as in the previous notebook, here we will multi-hot encode the sentences. This model will quickly overfit to the training set. It will be used to demonstrate when overfitting occurs, and how to fight it. \n",
    "\n",
    "Multi-hot-encoding our lists means turning them into vectors of 0s and 1s. Concretely, this would mean for instance turning the sequence  `[3, 5]` into a 10,000-dimensional vector that would be all-zeros except for indices 3 and 5, which would be ones. "
   ]
  },
  {
   "cell_type": "code",
   "execution_count": 2,
   "metadata": {
    "colab": {
     "autoexec": {
      "startup": false,
      "wait_interval": 0
     }
    },
    "colab_type": "code",
    "id": "QpzE4iqZtJly"
   },
   "outputs": [
    {
     "name": "stdout",
     "output_type": "stream",
     "text": [
      "Downloading data from https://storage.googleapis.com/tensorflow/tf-keras-datasets/imdb.npz\n",
      "17465344/17464789 [==============================] - 15s 1us/step\n"
     ]
    }
   ],
   "source": [
    "NUM_WORDS = 10000\n",
    "\n",
    "(train_data, train_labels), (test_data, test_labels) = keras.datasets.imdb.load_data(num_words=NUM_WORDS)\n",
    "\n",
    "def multi_hot_sequences(sequences, dimension):\n",
    "    # Create an all-zero matrix of shape (len(sequences), dimension)\n",
    "    results = np.zeros((len(sequences), dimension))\n",
    "    for i, word_indices in enumerate(sequences):\n",
    "        results[i, word_indices] = 1.0  # set specific indices of results[i] to 1s\n",
    "    return results\n",
    "\n",
    "\n",
    "train_data = multi_hot_sequences(train_data, dimension=NUM_WORDS)\n",
    "test_data = multi_hot_sequences(test_data, dimension=NUM_WORDS)"
   ]
  },
  {
   "cell_type": "markdown",
   "metadata": {
    "colab_type": "text",
    "id": "MzWVeXe3NBTn"
   },
   "source": [
    "Let's look at one of the resulting multi-hot vectors. The word indices are sorted by frequency, so it is expected that there are more 1-values near index zero, as we can see in this plot:"
   ]
  },
  {
   "cell_type": "code",
   "execution_count": 3,
   "metadata": {
    "colab": {
     "autoexec": {
      "startup": false,
      "wait_interval": 0
     }
    },
    "colab_type": "code",
    "id": "71kr5rG4LkGM"
   },
   "outputs": [
    {
     "data": {
      "text/plain": [
       "[<matplotlib.lines.Line2D at 0x12858fb38>]"
      ]
     },
     "execution_count": 3,
     "metadata": {},
     "output_type": "execute_result"
    },
    {
     "data": {
      "image/png": "[encoded data removed]",
      "text/plain": [
       "<Figure size 432x288 with 1 Axes>"
      ]
     },
     "metadata": {},
     "output_type": "display_data"
    }
   ],
   "source": [
    "plt.plot(train_data[0])"
   ]
  },
  {
   "cell_type": "markdown",
   "metadata": {
    "colab_type": "text",
    "id": "lglk41MwvU5o"
   },
   "source": [
    "## Demonstrate overfitting\n",
    "\n",
    "The simplest way to prevent overfitting is to reduce the size of the model, i.e. the number of learnable parameters in the model (which is determined by the number of layers and the number of units per layer). In deep learning, the number of learnable parameters in a model is often referred to as the model's \"capacity\". Intuitively, a model with more parameters will have more \"memorization capacity\" and therefore will be able to easily learn a perfect dictionary-like mapping between training samples and their targets, a mapping without any generalization power, but this would be useless when making predictions on previously unseen data. \n",
    "\n",
    "Always keep this in mind: deep learning models tend to be good at fitting to the training data, but the real challenge is generalization, not fitting.\n",
    "\n",
    "On the other hand, if the network has limited memorization resources, it will not be able to learn the mapping as easily. To minimize its loss, it will have to learn compressed representations that have more predictive power. At the same time, if you make your model too small, it will have difficulty fitting to the training data. There is a balance between \"too much capacity\" and \"not enough capacity\".\n",
    "\n",
    "Unfortunately, there is no magical formula to determine the right size or architecture of your model (in terms of the number of layers, or what the right size for each layer). You will have to experiment using a series of different architectures.\n",
    "\n",
    "To find an appropriate model size, it's best to start with relatively few layers and parameters, then begin increasing the size of the layers or adding new layers until you see diminishing returns on the validation loss. Let's try this on our movie review classification network. \n",
    "\n",
    "We'll create a simple model using only ```Dense``` layers as a baseline, then create smaller and larger versions, and compare them."
   ]
  },
  {
   "cell_type": "markdown",
   "metadata": {
    "colab_type": "text",
    "id": "_ReKHdC2EgVu"
   },
   "source": [
    "### Create a baseline model"
   ]
  },
  {
   "cell_type": "code",
   "execution_count": 4,
   "metadata": {
    "colab": {
     "autoexec": {
      "startup": false,
      "wait_interval": 0
     }
    },
    "colab_type": "code",
    "id": "QKgdXPx9usBa"
   },
   "outputs": [
    {
     "name": "stdout",
     "output_type": "stream",
     "text": [
      "_________________________________________________________________\n",
      "Layer (type)                 Output Shape              Param #   \n",
      "=================================================================\n",
      "dense (Dense)                (None, 16)                160016    \n",
      "_________________________________________________________________\n",
      "dense_1 (Dense)              (None, 16)                272       \n",
      "_________________________________________________________________\n",
      "dense_2 (Dense)              (None, 1)                 17        \n",
      "=================================================================\n",
      "Total params: 160,305\n",
      "Trainable params: 160,305\n",
      "Non-trainable params: 0\n",
      "_________________________________________________________________\n"
     ]
    }
   ],
   "source": [
    "baseline_model = keras.Sequential([\n",
    "    # `input_shape` is only required here so that `.summary` works. \n",
    "    keras.layers.Dense(16, activation=tf.nn.relu, input_shape=(NUM_WORDS,)),\n",
    "    keras.layers.Dense(16, activation=tf.nn.relu),\n",
    "    keras.layers.Dense(1, activation=tf.nn.sigmoid)\n",
    "])\n",
    "\n",
    "baseline_model.compile(optimizer='adam',\n",
    "                       loss='binary_crossentropy',\n",
    "                       metrics=['accuracy', 'binary_crossentropy'])\n",
    "\n",
    "baseline_model.summary()"
   ]
  },
  {
   "cell_type": "code",
   "execution_count": 5,
   "metadata": {
    "colab": {
     "autoexec": {
      "startup": false,
      "wait_interval": 0
     }
    },
    "colab_type": "code",
    "id": "LqG3MXF5xSjR"
   },
   "outputs": [
    {
     "name": "stdout",
     "output_type": "stream",
     "text": [
      "Train on 25000 samples, validate on 25000 samples\n",
      "Epoch 1/20\n",
      " - 9s - loss: 0.4842 - acc: 0.8084 - binary_crossentropy: 0.4842 - val_loss: 0.3343 - val_acc: 0.8762 - val_binary_crossentropy: 0.3343\n",
      "Epoch 2/20\n",
      " - 7s - loss: 0.2462 - acc: 0.9113 - binary_crossentropy: 0.2462 - val_loss: 0.2852 - val_acc: 0.8875 - val_binary_crossentropy: 0.2852\n",
      "Epoch 3/20\n",
      " - 6s - loss: 0.1799 - acc: 0.9374 - binary_crossentropy: 0.1799 - val_loss: 0.2905 - val_acc: 0.8843 - val_binary_crossentropy: 0.2905\n",
      "Epoch 4/20\n",
      " - 3s - loss: 0.1420 - acc: 0.9516 - binary_crossentropy: 0.1420 - val_loss: 0.3177 - val_acc: 0.8786 - val_binary_crossentropy: 0.3177\n",
      "Epoch 5/20\n",
      " - 4s - loss: 0.1140 - acc: 0.9629 - binary_crossentropy: 0.1140 - val_loss: 0.3443 - val_acc: 0.8741 - val_binary_crossentropy: 0.3443\n",
      "Epoch 6/20\n",
      " - 3s - loss: 0.0874 - acc: 0.9744 - binary_crossentropy: 0.0874 - val_loss: 0.3806 - val_acc: 0.8700 - val_binary_crossentropy: 0.3806\n",
      "Epoch 7/20\n",
      " - 4s - loss: 0.0642 - acc: 0.9842 - binary_crossentropy: 0.0642 - val_loss: 0.4268 - val_acc: 0.8629 - val_binary_crossentropy: 0.4268\n",
      "Epoch 8/20\n",
      " - 6s - loss: 0.0457 - acc: 0.9907 - binary_crossentropy: 0.0457 - val_loss: 0.4615 - val_acc: 0.8640 - val_binary_crossentropy: 0.4615\n",
      "Epoch 9/20\n",
      " - 4s - loss: 0.0311 - acc: 0.9949 - binary_crossentropy: 0.0311 - val_loss: 0.4996 - val_acc: 0.8624 - val_binary_crossentropy: 0.4996\n",
      "Epoch 10/20\n",
      " - 3s - loss: 0.0204 - acc: 0.9977 - binary_crossentropy: 0.0204 - val_loss: 0.5388 - val_acc: 0.8601 - val_binary_crossentropy: 0.5388\n",
      "Epoch 11/20\n",
      " - 3s - loss: 0.0134 - acc: 0.9989 - binary_crossentropy: 0.0134 - val_loss: 0.5743 - val_acc: 0.8603 - val_binary_crossentropy: 0.5743\n",
      "Epoch 12/20\n",
      " - 7s - loss: 0.0089 - acc: 0.9995 - binary_crossentropy: 0.0089 - val_loss: 0.6050 - val_acc: 0.8593 - val_binary_crossentropy: 0.6050\n",
      "Epoch 13/20\n",
      " - 5s - loss: 0.0063 - acc: 0.9999 - binary_crossentropy: 0.0063 - val_loss: 0.6359 - val_acc: 0.8586 - val_binary_crossentropy: 0.6359\n",
      "Epoch 14/20\n",
      " - 4s - loss: 0.0047 - acc: 1.0000 - binary_crossentropy: 0.0047 - val_loss: 0.6599 - val_acc: 0.8584 - val_binary_crossentropy: 0.6599\n",
      "Epoch 15/20\n",
      " - 4s - loss: 0.0036 - acc: 1.0000 - binary_crossentropy: 0.0036 - val_loss: 0.6821 - val_acc: 0.8579 - val_binary_crossentropy: 0.6821\n",
      "Epoch 16/20\n",
      " - 4s - loss: 0.0029 - acc: 1.0000 - binary_crossentropy: 0.0029 - val_loss: 0.7003 - val_acc: 0.8580 - val_binary_crossentropy: 0.7003\n",
      "Epoch 17/20\n",
      " - 6s - loss: 0.0024 - acc: 1.0000 - binary_crossentropy: 0.0024 - val_loss: 0.7165 - val_acc: 0.8570 - val_binary_crossentropy: 0.7165\n",
      "Epoch 18/20\n",
      " - 5s - loss: 0.0020 - acc: 1.0000 - binary_crossentropy: 0.0020 - val_loss: 0.7339 - val_acc: 0.8577 - val_binary_crossentropy: 0.7339\n",
      "Epoch 19/20\n",
      " - 6s - loss: 0.0017 - acc: 1.0000 - binary_crossentropy: 0.0017 - val_loss: 0.7462 - val_acc: 0.8572 - val_binary_crossentropy: 0.7462\n",
      "Epoch 20/20\n",
      " - 5s - loss: 0.0014 - acc: 1.0000 - binary_crossentropy: 0.0014 - val_loss: 0.7625 - val_acc: 0.8573 - val_binary_crossentropy: 0.7625\n"
     ]
    }
   ],
   "source": [
    "baseline_history = baseline_model.fit(train_data,\n",
    "                                      train_labels,\n",
    "                                      epochs=20,\n",
    "                                      batch_size=512,\n",
    "                                      validation_data=(test_data, test_labels),\n",
    "                                      verbose=2)"
   ]
  },
  {
   "cell_type": "markdown",
   "metadata": {
    "colab_type": "text",
    "id": "L-DGRBbGxI6G"
   },
   "source": [
    "### Create a smaller model"
   ]
  },
  {
   "cell_type": "markdown",
   "metadata": {
    "colab_type": "text",
    "id": "SrfoVQheYSO5"
   },
   "source": [
    "Let's create a model with less hidden units to compare against the baseline model that we just created:"
   ]
  },
  {
   "cell_type": "code",
   "execution_count": 6,
   "metadata": {
    "colab": {
     "autoexec": {
      "startup": false,
      "wait_interval": 0
     }
    },
    "colab_type": "code",
    "id": "jksi-XtaxDAh"
   },
   "outputs": [
    {
     "name": "stdout",
     "output_type": "stream",
     "text": [
      "_________________________________________________________________\n",
      "Layer (type)                 Output Shape              Param #   \n",
      "=================================================================\n",
      "dense_3 (Dense)              (None, 4)                 40004     \n",
      "_________________________________________________________________\n",
      "dense_4 (Dense)              (None, 4)                 20        \n",
      "_________________________________________________________________\n",
      "dense_5 (Dense)              (None, 1)                 5         \n",
      "=================================================================\n",
      "Total params: 40,029\n",
      "Trainable params: 40,029\n",
      "Non-trainable params: 0\n",
      "_________________________________________________________________\n"
     ]
    }
   ],
   "source": [
    "smaller_model = keras.Sequential([\n",
    "    keras.layers.Dense(4, activation=tf.nn.relu, input_shape=(NUM_WORDS,)),\n",
    "    keras.layers.Dense(4, activation=tf.nn.relu),\n",
    "    keras.layers.Dense(1, activation=tf.nn.sigmoid)\n",
    "])\n",
    "\n",
    "smaller_model.compile(optimizer='adam',\n",
    "                loss='binary_crossentropy',\n",
    "                metrics=['accuracy', 'binary_crossentropy'])\n",
    "\n",
    "smaller_model.summary()"
   ]
  },
  {
   "cell_type": "markdown",
   "metadata": {
    "colab_type": "text",
    "id": "jbngCZliYdma"
   },
   "source": [
    "And train the model using the same data:"
   ]
  },
  {
   "cell_type": "code",
   "execution_count": 7,
   "metadata": {
    "colab": {
     "autoexec": {
      "startup": false,
      "wait_interval": 0
     }
    },
    "colab_type": "code",
    "id": "Ofn1AwDhx-Fe"
   },
   "outputs": [
    {
     "name": "stdout",
     "output_type": "stream",
     "text": [
      "Train on 25000 samples, validate on 25000 samples\n",
      "Epoch 1/20\n",
      " - 8s - loss: 0.5481 - acc: 0.7736 - binary_crossentropy: 0.5481 - val_loss: 0.4321 - val_acc: 0.8544 - val_binary_crossentropy: 0.4321\n",
      "Epoch 2/20\n",
      " - 4s - loss: 0.3463 - acc: 0.8877 - binary_crossentropy: 0.3463 - val_loss: 0.3395 - val_acc: 0.8768 - val_binary_crossentropy: 0.3395\n",
      "Epoch 3/20\n",
      " - 3s - loss: 0.2661 - acc: 0.9119 - binary_crossentropy: 0.2661 - val_loss: 0.3015 - val_acc: 0.8855 - val_binary_crossentropy: 0.3015\n",
      "Epoch 4/20\n",
      " - 3s - loss: 0.2208 - acc: 0.9266 - binary_crossentropy: 0.2208 - val_loss: 0.2881 - val_acc: 0.8876 - val_binary_crossentropy: 0.2881\n",
      "Epoch 5/20\n",
      " - 3s - loss: 0.1908 - acc: 0.9374 - binary_crossentropy: 0.1908 - val_loss: 0.2862 - val_acc: 0.8857 - val_binary_crossentropy: 0.2862\n",
      "Epoch 6/20\n",
      " - 3s - loss: 0.1680 - acc: 0.9453 - binary_crossentropy: 0.1680 - val_loss: 0.2862 - val_acc: 0.8852 - val_binary_crossentropy: 0.2862\n",
      "Epoch 7/20\n",
      " - 3s - loss: 0.1498 - acc: 0.9529 - binary_crossentropy: 0.1498 - val_loss: 0.2926 - val_acc: 0.8821 - val_binary_crossentropy: 0.2926\n",
      "Epoch 8/20\n",
      " - 4s - loss: 0.1351 - acc: 0.9573 - binary_crossentropy: 0.1351 - val_loss: 0.3024 - val_acc: 0.8810 - val_binary_crossentropy: 0.3024\n",
      "Epoch 9/20\n",
      " - 3s - loss: 0.1232 - acc: 0.9604 - binary_crossentropy: 0.1232 - val_loss: 0.3151 - val_acc: 0.8781 - val_binary_crossentropy: 0.3151\n",
      "Epoch 10/20\n",
      " - 3s - loss: 0.1116 - acc: 0.9663 - binary_crossentropy: 0.1116 - val_loss: 0.3283 - val_acc: 0.8748 - val_binary_crossentropy: 0.3283\n",
      "Epoch 11/20\n",
      " - 3s - loss: 0.1021 - acc: 0.9703 - binary_crossentropy: 0.1021 - val_loss: 0.3408 - val_acc: 0.8735 - val_binary_crossentropy: 0.3408\n",
      "Epoch 12/20\n",
      " - 3s - loss: 0.0928 - acc: 0.9726 - binary_crossentropy: 0.0928 - val_loss: 0.3589 - val_acc: 0.8708 - val_binary_crossentropy: 0.3589\n",
      "Epoch 13/20\n",
      " - 3s - loss: 0.0847 - acc: 0.9767 - binary_crossentropy: 0.0847 - val_loss: 0.3726 - val_acc: 0.8685 - val_binary_crossentropy: 0.3726\n",
      "Epoch 14/20\n",
      " - 3s - loss: 0.0776 - acc: 0.9794 - binary_crossentropy: 0.0776 - val_loss: 0.3926 - val_acc: 0.8674 - val_binary_crossentropy: 0.3926\n",
      "Epoch 15/20\n",
      " - 3s - loss: 0.0708 - acc: 0.9823 - binary_crossentropy: 0.0708 - val_loss: 0.4079 - val_acc: 0.8670 - val_binary_crossentropy: 0.4079\n",
      "Epoch 16/20\n",
      " - 3s - loss: 0.0648 - acc: 0.9846 - binary_crossentropy: 0.0648 - val_loss: 0.4274 - val_acc: 0.8650 - val_binary_crossentropy: 0.4274\n",
      "Epoch 17/20\n",
      " - 3s - loss: 0.0593 - acc: 0.9868 - binary_crossentropy: 0.0593 - val_loss: 0.4483 - val_acc: 0.8625 - val_binary_crossentropy: 0.4483\n",
      "Epoch 18/20\n",
      " - 3s - loss: 0.0538 - acc: 0.9890 - binary_crossentropy: 0.0538 - val_loss: 0.4759 - val_acc: 0.8605 - val_binary_crossentropy: 0.4759\n",
      "Epoch 19/20\n",
      " - 3s - loss: 0.0490 - acc: 0.9908 - binary_crossentropy: 0.0490 - val_loss: 0.4885 - val_acc: 0.8590 - val_binary_crossentropy: 0.4885\n",
      "Epoch 20/20\n",
      " - 3s - loss: 0.0447 - acc: 0.9923 - binary_crossentropy: 0.0447 - val_loss: 0.5100 - val_acc: 0.8574 - val_binary_crossentropy: 0.5100\n"
     ]
    }
   ],
   "source": [
    "smaller_history = smaller_model.fit(train_data,\n",
    "                                    train_labels,\n",
    "                                    epochs=20,\n",
    "                                    batch_size=512,\n",
    "                                    validation_data=(test_data, test_labels),\n",
    "                                    verbose=2)"
   ]
  },
  {
   "cell_type": "markdown",
   "metadata": {
    "colab_type": "text",
    "id": "vIPuf23FFaVn"
   },
   "source": [
    "### Create a bigger model\n",
    "\n",
    "As an exercise, you can create an even larger model, and see how quickly it begins overfitting.  Next, let's add to this benchmark a network that has much more capacity, far more than the problem would warrant:"
   ]
  },
  {
   "cell_type": "code",
   "execution_count": 8,
   "metadata": {
    "colab": {
     "autoexec": {
      "startup": false,
      "wait_interval": 0
     }
    },
    "colab_type": "code",
    "id": "ghQwwqwqvQM9"
   },
   "outputs": [
    {
     "name": "stdout",
     "output_type": "stream",
     "text": [
      "_________________________________________________________________\n",
      "Layer (type)                 Output Shape              Param #   \n",
      "=================================================================\n",
      "dense_6 (Dense)              (None, 512)               5120512   \n",
      "_________________________________________________________________\n",
      "dense_7 (Dense)              (None, 512)               262656    \n",
      "_________________________________________________________________\n",
      "dense_8 (Dense)              (None, 1)                 513       \n",
      "=================================================================\n",
      "Total params: 5,383,681\n",
      "Trainable params: 5,383,681\n",
      "Non-trainable params: 0\n",
      "_________________________________________________________________\n"
     ]
    }
   ],
   "source": [
    "bigger_model = keras.models.Sequential([\n",
    "    keras.layers.Dense(512, activation=tf.nn.relu, input_shape=(NUM_WORDS,)),\n",
    "    keras.layers.Dense(512, activation=tf.nn.relu),\n",
    "    keras.layers.Dense(1, activation=tf.nn.sigmoid)\n",
    "])\n",
    "\n",
    "bigger_model.compile(optimizer='adam',\n",
    "                     loss='binary_crossentropy',\n",
    "                     metrics=['accuracy','binary_crossentropy'])\n",
    "\n",
    "bigger_model.summary()"
   ]
  },
  {
   "cell_type": "markdown",
   "metadata": {
    "colab_type": "text",
    "id": "D-d-i5DaYmr7"
   },
   "source": [
    "And, again, train the model using the same data:"
   ]
  },
  {
   "cell_type": "code",
   "execution_count": 9,
   "metadata": {
    "colab": {
     "autoexec": {
      "startup": false,
      "wait_interval": 0
     }
    },
    "colab_type": "code",
    "id": "U1A99dhqvepf"
   },
   "outputs": [
    {
     "name": "stdout",
     "output_type": "stream",
     "text": [
      "Train on 25000 samples, validate on 25000 samples\n",
      "Epoch 1/20\n",
      " - 22s - loss: 0.3493 - acc: 0.8535 - binary_crossentropy: 0.3493 - val_loss: 0.2999 - val_acc: 0.8777 - val_binary_crossentropy: 0.2999\n",
      "Epoch 2/20\n",
      " - 19s - loss: 0.1418 - acc: 0.9476 - binary_crossentropy: 0.1418 - val_loss: 0.3527 - val_acc: 0.8649 - val_binary_crossentropy: 0.3527\n",
      "Epoch 3/20\n",
      " - 17s - loss: 0.0496 - acc: 0.9855 - binary_crossentropy: 0.0496 - val_loss: 0.4236 - val_acc: 0.8699 - val_binary_crossentropy: 0.4236\n",
      "Epoch 4/20\n",
      " - 16s - loss: 0.0080 - acc: 0.9990 - binary_crossentropy: 0.0080 - val_loss: 0.5872 - val_acc: 0.8708 - val_binary_crossentropy: 0.5872\n",
      "Epoch 5/20\n",
      " - 21s - loss: 9.1439e-04 - acc: 1.0000 - binary_crossentropy: 9.1439e-04 - val_loss: 0.6766 - val_acc: 0.8720 - val_binary_crossentropy: 0.6766\n",
      "Epoch 6/20\n",
      " - 24s - loss: 2.6372e-04 - acc: 1.0000 - binary_crossentropy: 2.6372e-04 - val_loss: 0.7148 - val_acc: 0.8719 - val_binary_crossentropy: 0.7148\n",
      "Epoch 7/20\n",
      " - 24s - loss: 1.4992e-04 - acc: 1.0000 - binary_crossentropy: 1.4992e-04 - val_loss: 0.7399 - val_acc: 0.8725 - val_binary_crossentropy: 0.7399\n",
      "Epoch 8/20\n",
      " - 22s - loss: 1.0622e-04 - acc: 1.0000 - binary_crossentropy: 1.0622e-04 - val_loss: 0.7592 - val_acc: 0.8724 - val_binary_crossentropy: 0.7592\n",
      "Epoch 9/20\n",
      " - 21s - loss: 8.0936e-05 - acc: 1.0000 - binary_crossentropy: 8.0936e-05 - val_loss: 0.7751 - val_acc: 0.8726 - val_binary_crossentropy: 0.7751\n",
      "Epoch 10/20\n",
      " - 26s - loss: 6.4139e-05 - acc: 1.0000 - binary_crossentropy: 6.4139e-05 - val_loss: 0.7878 - val_acc: 0.8725 - val_binary_crossentropy: 0.7878\n",
      "Epoch 11/20\n",
      " - 22s - loss: 5.2218e-05 - acc: 1.0000 - binary_crossentropy: 5.2218e-05 - val_loss: 0.7996 - val_acc: 0.8724 - val_binary_crossentropy: 0.7996\n",
      "Epoch 12/20\n",
      " - 31s - loss: 4.3340e-05 - acc: 1.0000 - binary_crossentropy: 4.3340e-05 - val_loss: 0.8098 - val_acc: 0.8722 - val_binary_crossentropy: 0.8098\n",
      "Epoch 13/20\n",
      " - 24s - loss: 3.6537e-05 - acc: 1.0000 - binary_crossentropy: 3.6537e-05 - val_loss: 0.8186 - val_acc: 0.8723 - val_binary_crossentropy: 0.8186\n",
      "Epoch 14/20\n",
      " - 24s - loss: 3.1244e-05 - acc: 1.0000 - binary_crossentropy: 3.1244e-05 - val_loss: 0.8269 - val_acc: 0.8726 - val_binary_crossentropy: 0.8269\n",
      "Epoch 15/20\n",
      " - 22s - loss: 2.6964e-05 - acc: 1.0000 - binary_crossentropy: 2.6964e-05 - val_loss: 0.8347 - val_acc: 0.8726 - val_binary_crossentropy: 0.8347\n",
      "Epoch 16/20\n",
      " - 21s - loss: 2.3537e-05 - acc: 1.0000 - binary_crossentropy: 2.3537e-05 - val_loss: 0.8411 - val_acc: 0.8727 - val_binary_crossentropy: 0.8411\n",
      "Epoch 17/20\n",
      " - 19s - loss: 2.0685e-05 - acc: 1.0000 - binary_crossentropy: 2.0685e-05 - val_loss: 0.8485 - val_acc: 0.8726 - val_binary_crossentropy: 0.8485\n",
      "Epoch 18/20\n",
      " - 18s - loss: 1.8332e-05 - acc: 1.0000 - binary_crossentropy: 1.8332e-05 - val_loss: 0.8541 - val_acc: 0.8727 - val_binary_crossentropy: 0.8541\n",
      "Epoch 19/20\n",
      " - 21s - loss: 1.6308e-05 - acc: 1.0000 - binary_crossentropy: 1.6308e-05 - val_loss: 0.8599 - val_acc: 0.8728 - val_binary_crossentropy: 0.8599\n",
      "Epoch 20/20\n",
      " - 20s - loss: 1.4617e-05 - acc: 1.0000 - binary_crossentropy: 1.4617e-05 - val_loss: 0.8659 - val_acc: 0.8728 - val_binary_crossentropy: 0.8659\n"
     ]
    }
   ],
   "source": [
    "bigger_history = bigger_model.fit(train_data, train_labels,\n",
    "                                  epochs=20,\n",
    "                                  batch_size=512,\n",
    "                                  validation_data=(test_data, test_labels),\n",
    "                                  verbose=2)"
   ]
  },
  {
   "cell_type": "markdown",
   "metadata": {
    "colab_type": "text",
    "id": "Fy3CMUZpzH3d"
   },
   "source": [
    "### Plot the training and validation loss\n",
    "\n",
    "<!--TODO(markdaoust): This should be a one-liner with tensorboard -->"
   ]
  },
  {
   "cell_type": "markdown",
   "metadata": {
    "colab_type": "text",
    "id": "HSlo1F4xHuuM"
   },
   "source": [
    "The solid lines show the training loss, and the dashed lines show the validation loss (remember: a lower validation loss indicates a better model). Here, the smaller network begins overfitting later than the baseline model (after 6 epochs rather than 4) and its performance degrades much more slowly once it starts overfitting. "
   ]
  },
  {
   "cell_type": "code",
   "execution_count": 0,
   "metadata": {
    "colab": {
     "autoexec": {
      "startup": false,
      "wait_interval": 0
     }
    },
    "colab_type": "code",
    "id": "0XmKDtOWzOpk"
   },
   "outputs": [],
   "source": [
    "def plot_history(histories, key='binary_crossentropy'):\n",
    "  plt.figure(figsize=(16,10))\n",
    "    \n",
    "  for name, history in histories:\n",
    "    val = plt.plot(history.epoch, history.history['val_'+key],\n",
    "                   '--', label=name.title()+' Val')\n",
    "    plt.plot(history.epoch, history.history[key], color=val[0].get_color(),\n",
    "             label=name.title()+' Train')\n",
    "\n",
    "  plt.xlabel('Epochs')\n",
    "  plt.ylabel(key.replace('_',' ').title())\n",
    "  plt.legend()\n",
    "\n",
    "  plt.xlim([0,max(history.epoch)])\n",
    "\n",
    "\n",
    "plot_history([('baseline', baseline_history),\n",
    "              ('smaller', smaller_history),\n",
    "              ('bigger', bigger_history)])"
   ]
  },
  {
   "cell_type": "markdown",
   "metadata": {
    "colab_type": "text",
    "id": "Bi6hBhdnSfjA"
   },
   "source": [
    "Notice that the larger network begins overfitting almost right away, after just one epoch, and overfits much more severely. The more capacity the network has, the quicker it will be able to model the training data (resulting in a low training loss), but the more susceptible it is to overfitting (resulting in a large difference between the training and validation loss)."
   ]
  },
  {
   "cell_type": "markdown",
   "metadata": {
    "colab_type": "text",
    "id": "ASdv7nsgEFhx"
   },
   "source": [
    "## Strategies"
   ]
  },
  {
   "cell_type": "markdown",
   "metadata": {
    "colab_type": "text",
    "id": "4rHoVWcswFLa"
   },
   "source": [
    "### Add weight regularization\n",
    "\n"
   ]
  },
  {
   "cell_type": "markdown",
   "metadata": {
    "colab_type": "text",
    "id": "kRxWepNawbBK"
   },
   "source": [
    "You may be familiar with Occam's Razor principle: given two explanations for something, the explanation most likely to be correct is the \"simplest\" one, the one that makes the least amount of assumptions. This also applies to the models learned by neural networks: given some training data and a network architecture, there are multiple sets of weights values (multiple models) that could explain the data, and simpler models are less likely to overfit than complex ones.\n",
    "\n",
    "A \"simple model\" in this context is a model where the distribution of parameter values has less entropy (or a model with fewer parameters altogether, as we saw in the section above). Thus a common way to mitigate overfitting is to put constraints on the complexity of a network by forcing its weights only to take small values, which makes the distribution of weight values more \"regular\". This is called \"weight regularization\", and it is done by adding to the loss function of the network a cost associated with having large weights. This cost comes in two flavors:\n",
    "\n",
    "* L1 regularization, where the cost added is proportional to the absolute value of the weights coefficients (i.e. to what is called the \"L1 norm\" of the weights).\n",
    "\n",
    "* L2 regularization, where the cost added is proportional to the square of the value of the weights coefficients (i.e. to what is called the \"L2 norm\" of the weights). L2 regularization is also called weight decay in the context of neural networks. Don't let the different name confuse you: weight decay is mathematically the exact same as L2 regularization.\n",
    "\n",
    "In `tf.keras`, weight regularization is added by passing weight regularizer instances to layers as keyword arguments. Let's add L2 weight regularization now."
   ]
  },
  {
   "cell_type": "code",
   "execution_count": 0,
   "metadata": {
    "colab": {
     "autoexec": {
      "startup": false,
      "wait_interval": 0
     }
    },
    "colab_type": "code",
    "id": "HFGmcwduwVyQ"
   },
   "outputs": [],
   "source": [
    "l2_model = keras.models.Sequential([\n",
    "    keras.layers.Dense(16, kernel_regularizer=keras.regularizers.l2(0.001),\n",
    "                       activation=tf.nn.relu, input_shape=(NUM_WORDS,)),\n",
    "    keras.layers.Dense(16, kernel_regularizer=keras.regularizers.l2(0.001),\n",
    "                       activation=tf.nn.relu),\n",
    "    keras.layers.Dense(1, activation=tf.nn.sigmoid)\n",
    "])\n",
    "\n",
    "l2_model.compile(optimizer='adam',\n",
    "                 loss='binary_crossentropy',\n",
    "                 metrics=['accuracy', 'binary_crossentropy'])\n",
    "\n",
    "l2_model_history = l2_model.fit(train_data, train_labels,\n",
    "                                epochs=20,\n",
    "                                batch_size=512,\n",
    "                                validation_data=(test_data, test_labels),\n",
    "                                verbose=2)"
   ]
  },
  {
   "cell_type": "markdown",
   "metadata": {
    "colab_type": "text",
    "id": "bUUHoXb7w-_C"
   },
   "source": [
    "```l2(0.001)``` means that every coefficient in the weight matrix of the layer will add ```0.001 * weight_coefficient_value**2``` to the total loss of the network. Note that because this penalty is only added at training time, the loss for this network will be much higher at training than at test time.\n",
    "\n",
    "Here's the impact of our L2 regularization penalty:"
   ]
  },
  {
   "cell_type": "code",
   "execution_count": 0,
   "metadata": {
    "colab": {
     "autoexec": {
      "startup": false,
      "wait_interval": 0
     }
    },
    "colab_type": "code",
    "id": "7wkfLyxBZdh_"
   },
   "outputs": [],
   "source": [
    "plot_history([('baseline', baseline_history),\n",
    "              ('l2', l2_model_history)])"
   ]
  },
  {
   "cell_type": "markdown",
   "metadata": {
    "colab_type": "text",
    "id": "Kx1YHMsVxWjP"
   },
   "source": [
    "As you can see, the L2 regularized model has become much more resistant to overfitting than the baseline model, even though both models have the same number of parameters."
   ]
  },
  {
   "cell_type": "markdown",
   "metadata": {
    "colab_type": "text",
    "id": "HmnBNOOVxiG8"
   },
   "source": [
    "### Add dropout\n",
    "\n",
    "Dropout is one of the most effective and most commonly used regularization techniques for neural networks, developed by Hinton and his students at the University of Toronto. Dropout, applied to a layer, consists of randomly \"dropping out\" (i.e. set to zero) a number of output features of the layer during training. Let's say a given layer would normally have returned a vector [0.2, 0.5, 1.3, 0.8, 1.1] for a given input sample during training; after applying dropout, this vector will have a few zero entries distributed at random, e.g. [0, 0.5, \n",
    "1.3, 0, 1.1]. The \"dropout rate\" is the fraction of the features that are being zeroed-out; it is usually set between 0.2 and 0.5. At test time, no units are dropped out, and instead the layer's output values are scaled down by a factor equal to the dropout rate, so as to balance for the fact that more units are active than at training time.\n",
    "\n",
    "In tf.keras you can introduce dropout in a network via the Dropout layer, which gets applied to the output of layer right before.\n",
    "\n",
    "Let's add two Dropout layers in our IMDB network to see how well they do at reducing overfitting:"
   ]
  },
  {
   "cell_type": "code",
   "execution_count": 0,
   "metadata": {
    "colab": {
     "autoexec": {
      "startup": false,
      "wait_interval": 0
     }
    },
    "colab_type": "code",
    "id": "OFEYvtrHxSWS"
   },
   "outputs": [],
   "source": [
    "dpt_model = keras.models.Sequential([\n",
    "    keras.layers.Dense(16, activation=tf.nn.relu, input_shape=(NUM_WORDS,)),\n",
    "    keras.layers.Dropout(0.5),\n",
    "    keras.layers.Dense(16, activation=tf.nn.relu),\n",
    "    keras.layers.Dropout(0.5),\n",
    "    keras.layers.Dense(1, activation=tf.nn.sigmoid)\n",
    "])\n",
    "\n",
    "dpt_model.compile(optimizer='adam',\n",
    "                  loss='binary_crossentropy',\n",
    "                  metrics=['accuracy','binary_crossentropy'])\n",
    "\n",
    "dpt_model_history = dpt_model.fit(train_data, train_labels,\n",
    "                                  epochs=20,\n",
    "                                  batch_size=512,\n",
    "                                  validation_data=(test_data, test_labels),\n",
    "                                  verbose=2)"
   ]
  },
  {
   "cell_type": "code",
   "execution_count": 0,
   "metadata": {
    "colab": {
     "autoexec": {
      "startup": false,
      "wait_interval": 0
     }
    },
    "colab_type": "code",
    "id": "SPZqwVchx5xp"
   },
   "outputs": [],
   "source": [
    "plot_history([('baseline', baseline_history),\n",
    "              ('dropout', dpt_model_history)])"
   ]
  },
  {
   "cell_type": "markdown",
   "metadata": {
    "colab_type": "text",
    "id": "gjfnkEeQyAFG"
   },
   "source": [
    "Adding dropout is a clear improvement over the baseline model. \n",
    "\n",
    "\n",
    "To recap: here the most common ways to prevent overfitting in neural networks:\n",
    "\n",
    "* Get more training data.\n",
    "* Reduce the capacity of the network.\n",
    "* Add weight regularization.\n",
    "* Add dropout.\n",
    "\n",
    "And two important approaches not covered in this guide are data-augmentation and batch normalization."
   ]
  }
 ],
 "metadata": {
  "accelerator": "GPU",
  "colab": {
   "collapsed_sections": [
    "fTFj8ft5dlbS"
   ],
   "default_view": {},
   "name": "overfit-and-underfit.ipynb",
   "private_outputs": true,
   "provenance": [],
   "toc_visible": true,
   "version": "0.3.2",
   "views": {}
  },
  "kernelspec": {
   "display_name": "Python 3",
   "language": "python",
   "name": "python3"
  },
  "language_info": {
   "codemirror_mode": {
    "name": "ipython",
    "version": 3
   },
   "file_extension": ".py",
   "mimetype": "text/x-python",
   "name": "python",
   "nbconvert_exporter": "python",
   "pygments_lexer": "ipython3",
   "version": "3.6.3"
  }
 },
 "nbformat": 4,
 "nbformat_minor": 1
}
