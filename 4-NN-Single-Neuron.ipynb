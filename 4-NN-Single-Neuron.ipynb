{
 "cells": [
  {
   "cell_type": "markdown",
   "metadata": {
    "collapsed": true
   },
   "source": [
    "### Introduction\n",
    "\n",
    "We will write a very simple Neural Network with a single neuron to implement the logical \"And\" function with Python. This is a problem type of Classification as it outputs results of either 0 or 1 but not a continuous number.\n",
    "\n",
    "It is defined for two inputs and one output:\n",
    "\n",
    "\n",
    "| Input1        | Input2        | Output  |\n",
    "|:------------: |:-----------:| :-----:|\n",
    "| 0 | 0  | 0 |\n",
    "| 0 | 1  | 0 |\n",
    "| 1 | 0  | 0 |\n",
    "| 1 | 1  | 1 |\n",
    "\n"
   ]
  },
  {
   "cell_type": "markdown",
   "metadata": {},
   "source": [
    "### Contents\n",
    "\n",
    "\n",
    "#### Solution\n",
    "To solve this problem, we can build a neural network of the following kind:\n",
    "\n",
    "![image](images/and_problem_solution.png)\n"
   ]
  },
  {
   "cell_type": "markdown",
   "metadata": {},
   "source": [
    "#### Explanation\n",
    "\n",
    "When a signal comes in, it gets multiplied by a weight value that is assigned to this particular input. That is, if a neuron has three inputs, then it has three weights that can be adjusted individually. The weights usually get adjusted during the learn phase.\n",
    "After this the modified input signals are summed up. It is also possible to add additionally a so-called bias b to this sum. The bias is a value which can also be adjusted during the learn phase.\n",
    "\n",
    "Finally, the actual output has to be determined. For this purpose an activation or step function Φ is applied to weighted sum of the input values.\n",
    "\n",
    "![image](images/neuron_neural_network_detail_view.png)"
   ]
  },
  {
   "cell_type": "markdown",
   "metadata": {},
   "source": [
    "#### Activation Function\n",
    "The simplest form of an activation function is a binary function. If the result of the summation is greater than some threshold s, the result of Φ will be 1, otherwise 0.\n",
    "\n",
    "![image](images/activation-binary.png)"
   ]
  },
  {
   "cell_type": "markdown",
   "metadata": {},
   "source": [
    "#### Code Implementation\n",
    "\n",
    "In our case, we can have algorithm like this:\n",
    "* We can set the weight matrix to [[1,1]], then if sum of input x1 and x2 is greater than 2, the output will be 1.\n",
    "* We can set the weight matrix to [[0.5, 0.5]], then if sum of input x1 and x2 is greater than 0.5, the output will be 1.\n",
    "\n",
    "Here we use the later alogrithm to define the neural network:\n",
    "* Define **Weights Matrix** to [[0.5, 0.5]]\n",
    "\n",
    "* Define **Activation Function**: if sum > 0.5 return 1 else return 0\n",
    "\n",
    "* Define neuron to sum **Inputs with Weights** and call Activation Function for **Output**"
   ]
  },
  {
   "cell_type": "code",
   "execution_count": 2,
   "metadata": {},
   "outputs": [
    {
     "name": "stdout",
     "output_type": "stream",
     "text": [
      "[0 0] 0\n",
      "[0 1] 0\n",
      "[1 0] 0\n",
      "[1 1] 1\n"
     ]
    }
   ],
   "source": [
    "import numpy as np\n",
    "class Perceptron:\n",
    "    \n",
    "    def __init__(self, input_length, weights=None):\n",
    "        if weights is None:\n",
    "            self.weights = np.ones(input_length) * 0.5\n",
    "        else:\n",
    "            self.weights = weights\n",
    "        \n",
    "    @staticmethod\n",
    "    def activation_function(x):\n",
    "        if x > 0.5:\n",
    "            return 1\n",
    "        return 0\n",
    "        \n",
    "    def __call__(self, in_data):\n",
    "        weighted_input = self.weights * in_data\n",
    "        weighted_sum = weighted_input.sum()\n",
    "        return Perceptron.activation_function(weighted_sum)\n",
    "    \n",
    "p = Perceptron(2, np.array([0.5, 0.5]))\n",
    "for x in [np.array([0, 0]), np.array([0, 1]), \n",
    "          np.array([1, 0]), np.array([1, 1])]:\n",
    "    y = p(np.array(x))\n",
    "    print(x, y)"
   ]
  },
  {
   "cell_type": "markdown",
   "metadata": {},
   "source": [
    "### Summary\n",
    "In this tutorial we use Python to implement a simple Neural Network to solve an AND problem. We define the algorithm for the problem first, then we define Weight Matrix, Activation Function, and Neurons."
   ]
  },
  {
   "cell_type": "markdown",
   "metadata": {},
   "source": [
    "### Further Reading\n",
    "* [Neural Networks from Scratch in Python](https://www.python-course.eu/neural_networks_with_python_numpy.php)"
   ]
  }
 ],
 "metadata": {
  "kernelspec": {
   "display_name": "Python 3",
   "language": "python",
   "name": "python3"
  },
  "language_info": {
   "codemirror_mode": {
    "name": "ipython",
    "version": 3
   },
   "file_extension": ".py",
   "mimetype": "text/x-python",
   "name": "python",
   "nbconvert_exporter": "python",
   "pygments_lexer": "ipython3",
   "version": "3.6.3"
  }
 },
 "nbformat": 4,
 "nbformat_minor": 1
}
