{
 "cells": [
  {
   "cell_type": "markdown",
   "metadata": {
    "collapsed": true
   },
   "source": [
    "### Introduction\n",
    "\n",
    "Running our neural network on some input means that we will have a matrix multiplications of the weight vectors and the inputs. We have to apply an activation function on the output values. There are lots of different activation functions used in neural networks.\n",
    "\n",
    "In this tutorial, we will learn how to define a function called predict_with_network(). This function will generate predictions for multiple data observations, taken from network above taken as input_data. The weights given in above network are being used. The relu() function definition is also being used. "
   ]
  },
  {
   "cell_type": "markdown",
   "metadata": {},
   "source": [
    "### Contents\n",
    "\n",
    "Details of the topics."
   ]
  },
  {
   "cell_type": "markdown",
   "metadata": {},
   "source": [
    "#### 1 Sigmoid\n",
    "\n",
    "The sigmoid function belongs to the most often used activation functions. The main reason why we use sigmoid function is because it exists between (0 to 1). Therefore, it is especially used for models where we have to predict the probability as an output.Since probability of anything exists only between the range of 0 and 1, sigmoid is the right choice.\n",
    "\n",
    "It is defined as\n",
    "$$\\sigma(x) = \\frac{1}{1+e^{-x}}$$\n"
   ]
  },
  {
   "cell_type": "code",
   "execution_count": 3,
   "metadata": {},
   "outputs": [
    {
     "data": {
      "text/plain": [
       "Text(4,0.8,'$\\\\sigma(x)=\\\\frac{1}{1+e^{-x}}$')"
      ]
     },
     "execution_count": 3,
     "metadata": {},
     "output_type": "execute_result"
    },
    {
     "data": {
      "image/png": "[encoded data removed]",
      "text/plain": [
       "<Figure size 432x288 with 1 Axes>"
      ]
     },
     "metadata": {},
     "output_type": "display_data"
    }
   ],
   "source": [
    "import numpy as np\n",
    "import matplotlib.pyplot as plt\n",
    "\n",
    "def sigma(x):\n",
    "    return 1 / (1 + np.exp(-x))\n",
    "X = np.linspace(-5, 5, 100)\n",
    "plt.plot(X, sigma(X),'b')\n",
    "plt.xlabel('X Axis')\n",
    "plt.ylabel('Y Axis')\n",
    "plt.title('Sigmoid Function')\n",
    "plt.grid()\n",
    "plt.text(4, 0.8, r'$\\sigma(x)=\\frac{1}{1+e^{-x}}$', fontsize=16)\n"
   ]
  },
  {
   "cell_type": "markdown",
   "metadata": {},
   "source": [
    "#### 2 ReLU (Rectified Linear Unit) \n",
    "\n",
    "The ReLU is the most used activation function in the world right now.Since, it is used in almost all the convolutional neural networks or deep learning."
   ]
  },
  {
   "cell_type": "code",
   "execution_count": 4,
   "metadata": {},
   "outputs": [
    {
     "data": {
      "text/plain": [
       "Text(3,0.8,'$ReLU(x)=max(0.0, x)$')"
      ]
     },
     "execution_count": 4,
     "metadata": {},
     "output_type": "execute_result"
    },
    {
     "data": {
      "image/png": "[encoded data removed]",
      "text/plain": [
       "<Figure size 432x288 with 1 Axes>"
      ]
     },
     "metadata": {},
     "output_type": "display_data"
    }
   ],
   "source": [
    "def ReLU(x):\n",
    "    return np.maximum(0.0, x)\n",
    "# derivation of relu\n",
    "def ReLU_derivation(x):\n",
    "    if x <= 0:\n",
    "        return 0\n",
    "    else:\n",
    "        return 1\n",
    "    \n",
    "X = np.linspace(-5, 5, 100)\n",
    "plt.plot(X, ReLU(X),'b')\n",
    "plt.xlabel('X Axis')\n",
    "plt.ylabel('Y Axis')\n",
    "plt.title('ReLU Function')\n",
    "plt.grid()\n",
    "plt.text(3, 0.8, r'$ReLU(x)=max(0.0, x)$', fontsize=16)"
   ]
  },
  {
   "cell_type": "markdown",
   "metadata": {},
   "source": [
    "#### 3 Multi-Layer Neural Network\n",
    "\n",
    "Here we are writing code to do forward propagation for a neural network with two hidden layers. Each hidden layer has two nodes. The input data has been preloaded as input_data. The nodes in the first hidden layer are called node_0_0 and node_0_1.\n",
    "\n",
    "Their weights are pre-loaded as weights['node_0_0'] and weights['node_0_1'] respectively.\n",
    "\n",
    "The nodes in the second hidden layer are called node_1_0 and node_1_1. Their weights are pre-loaded as weights['node_1_0'] and weights['node_1_1'] respectively.\n",
    "\n",
    "We then create a model output from the hidden nodes using weights pre-loaded as weights['output'].\n",
    "\n",
    "![image](images/deep_multi_layer.jpg)"
   ]
  },
  {
   "cell_type": "code",
   "execution_count": 7,
   "metadata": {},
   "outputs": [
    {
     "name": "stdout",
     "output_type": "stream",
     "text": [
      "364\n"
     ]
    }
   ],
   "source": [
    "def relu(input):\n",
    "   '''Define your relu activation function here'''\n",
    "   # Calculate the value for the output of the relu function: output\n",
    "   output = max(input,0)\n",
    "      # Return the value just calculated\n",
    "   return(output)\n",
    "\n",
    "input_data = np.array([3, 5])\n",
    "weights = {\n",
    "   'node_0_0': np.array([2, 4]),\n",
    "   'node_0_1': np.array([4, -5]),\n",
    "   'node_1_0': np.array([-1, 1]),\n",
    "   'node_1_1': np.array([2, 2]),\n",
    "   'output': np.array([2, 7])\n",
    "}\n",
    "def predict_with_network(input_data):\n",
    "   # Calculate node 0 in the first hidden layer\n",
    "   node_0_0_input = (input_data * weights['node_0_0']).sum()\n",
    "   node_0_0_output = relu(node_0_0_input)\n",
    "   \n",
    "   # Calculate node 1 in the first hidden layer\n",
    "   node_0_1_input = (input_data*weights['node_0_1']).sum()\n",
    "   node_0_1_output = relu(node_0_1_input)\n",
    "   \n",
    "   # Put node values into array: hidden_0_outputs\n",
    "   hidden_0_outputs = np.array([node_0_0_output, node_0_1_output])\n",
    "   \n",
    "   # Calculate node 0 in the second hidden layer\n",
    "   node_1_0_input = (hidden_0_outputs*weights['node_1_0']).sum()\n",
    "   node_1_0_output = relu(node_1_0_input)\n",
    "   \n",
    "   # Calculate node 1 in the second hidden layer\n",
    "   node_1_1_input = (hidden_0_outputs*weights['node_1_1']).sum()\n",
    "   node_1_1_output = relu(node_1_1_input)\n",
    "   \n",
    "   # Put node values into array: hidden_1_outputs\n",
    "   hidden_1_outputs = np.array([node_1_0_output, node_1_1_output])\n",
    "   \n",
    "   # Calculate model output: model_output\n",
    "   model_output = (hidden_1_outputs*weights['output']).sum()\n",
    "      # Return model_output\n",
    "   return(model_output)\n",
    "output = predict_with_network(input_data)\n",
    "print(output)"
   ]
  },
  {
   "cell_type": "markdown",
   "metadata": {},
   "source": [
    "![image](images/multi_hidden_layer_result.jpg)"
   ]
  },
  {
   "cell_type": "markdown",
   "metadata": {},
   "source": [
    "#### 4 List of Activation Functions\n",
    "\n",
    "![image](images/activation-function-list.png)"
   ]
  },
  {
   "cell_type": "markdown",
   "metadata": {},
   "source": [
    "### Summary\n",
    "In this tutorial we covered Multi-Layer Neural Network and Activation Functions. Activation functions are used to introduce non-linearity to neural networks."
   ]
  },
  {
   "cell_type": "markdown",
   "metadata": {},
   "source": [
    "### Further Reading\n",
    "\n",
    "[Python Deep Learning - Quick Guide](https://www.tutorialspoint.com/python_deep_learning/python_deep_learning_quick_guide.htm)"
   ]
  }
 ],
 "metadata": {
  "kernelspec": {
   "display_name": "Python 2",
   "language": "python",
   "name": "python2"
  },
  "language_info": {
   "codemirror_mode": {
    "name": "ipython",
    "version": 2
   },
   "file_extension": ".py",
   "mimetype": "text/x-python",
   "name": "python",
   "nbconvert_exporter": "python",
   "pygments_lexer": "ipython2",
   "version": "2.7.6"
  }
 },
 "nbformat": 4,
 "nbformat_minor": 0
}
